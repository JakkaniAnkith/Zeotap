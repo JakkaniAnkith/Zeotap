import pandas as pd

# Load datasets
customers = pd.read_csv('Customers.csv')
products = pd.read_csv('Products.csv')
transactions = pd.read_csv('Transactions.csv')

# Explore data
print(customers.head())
print(products.head())
print(transactions.head())

# Check for missing values
print(customers.isnull().sum())
print(products.isnull().sum())
print(transactions.isnull().sum())

# Check data types
print(customers.info())
print(products.info())
print(transactions.info())

import matplotlib.pyplot as plt
import seaborn as sns

# Transactions by region
region_sales = transactions.merge(customers, on='CustomerID').groupby('Region')['TotalValue'].sum()
region_sales.plot(kind='bar', title='Sales by Region', ylabel='Total Sales', xlabel='Region')
plt.show()

# Most popular products
popular_products = transactions.merge(products, on='ProductID').groupby('ProductName')['Quantity'].sum()
popular_products.nlargest(10).plot(kind='barh', title='Top 10 Popular Products', xlabel='Quantity')
plt.show()

# High revenue customers
high_revenue_customers = transactions.groupby('CustomerID')['TotalValue'].sum().nlargest(10)
print(high_revenue_customers)

# Seasonality in transactions
transactions['TransactionDate'] = pd.to_datetime(transactions['TransactionDate'])
transactions['Month'] = transactions['TransactionDate'].dt.month
monthly_sales = transactions.groupby('Month')['TotalValue'].sum()
monthly_sales.plot(kind='line', title='Monthly Sales Trend', xlabel='Month', ylabel='Total Sales')
plt.show()

# Revenue by product category
category_revenue = transactions.merge(products, on='ProductID').groupby('Category')['TotalValue'].sum()
category_revenue.plot(kind='pie', autopct='%1.1f%%', title='Revenue by Category')
plt.show()
