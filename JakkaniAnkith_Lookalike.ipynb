from sklearn.metrics.pairwise import cosine_similarity
from sklearn.preprocessing import MinMaxScaler

# Feature Engineering: Customer profile + transaction stats
customer_features = transactions.groupby('CustomerID').agg({
    'TotalValue': 'sum',
    'Quantity': 'sum'
}).reset_index()
customer_features = customer_features.merge(customers, on='CustomerID')

# Normalize features for similarity computation
scaler = MinMaxScaler()
customer_features_scaled = scaler.fit_transform(customer_features[['TotalValue', 'Quantity']])

# Compute similarity
similarity_matrix = cosine_similarity(customer_features_scaled)

# Recommend top 3 similar customers for first 20
recommendations = {}
for i in range(20):
    similar_indices = similarity_matrix[i].argsort()[::-1][1:4]
    recommendations[customer_features.iloc[i]['CustomerID']] = [
        (customer_features.iloc[j]['CustomerID'], similarity_matrix[i, j]) for j in similar_indices
    ]

# Create Lookalike.csv
import csv

with open('Lookalike.csv', 'w', newline='') as file:
    writer = csv.writer(file)
    writer.writerow(['CustomerID', 'Recommendations'])
    for cust_id, recs in recommendations.items():
        writer.writerow([cust_id, recs])
