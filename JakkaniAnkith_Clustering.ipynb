from sklearn.cluster import KMeans
from sklearn.metrics import davies_bouldin_score
import numpy as np

# Prepare clustering data
clustering_data = transactions.groupby('CustomerID').agg({
    'TotalValue': 'sum',
    'Quantity': 'sum'
}).reset_index()
clustering_data_scaled = scaler.fit_transform(clustering_data[['TotalValue', 'Quantity']])

# K-Means Clustering
kmeans = KMeans(n_clusters=4, random_state=42)
clusters = kmeans.fit_predict(clustering_data_scaled)
clustering_data['Cluster'] = clusters

# Evaluate Clustering
db_index = davies_bouldin_score(clustering_data_scaled, clusters)
print(f'Davies-Bouldin Index: {db_index}')

# Visualize Clusters
sns.scatterplot(x=clustering_data['TotalValue'], y=clustering_data['Quantity'], hue=clusters, palette='viridis')
plt.title('Customer Clusters')
plt.xlabel('Total Spending')
plt.ylabel('Quantity Purchased')
plt.show()
